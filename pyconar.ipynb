{
 "cells": [
  {
   "cell_type": "markdown",
   "metadata": {
    "ein.tags": "worksheet-0",
    "slideshow": {
     "slide_type": "-"
    }
   },
   "source": [
    "# PyConAr 2018 - Taller API Georef\n",
    "\n",
    "Requerimientos:\n",
    " - Python 3\n",
    " - jupyter\n",
    " - pandas\n",
    " - requests"
   ]
  },
  {
   "cell_type": "code",
   "execution_count": 1,
   "metadata": {
    "autoscroll": false,
    "ein.hycell": false,
    "ein.tags": "worksheet-0",
    "slideshow": {
     "slide_type": "-"
    }
   },
   "outputs": [],
   "source": [
    "import json\n",
    "import os\n",
    "import pandas as pd\n",
    "import requests"
   ]
  },
  {
   "cell_type": "markdown",
   "metadata": {},
   "source": [
    "### Funciones de utilidad\n",
    "\n",
    "Se definen dos funciones de utilidad:\n",
    "\n",
    "La función `load_csv` carga un archivo CSV y toma una muestra aleatoria de 100 elementos (por defecto). El muestreado se realiza para poder agilizar el taller y no tener que manejar cantidades de datos demasiado grandes."
   ]
  },
  {
   "cell_type": "code",
   "execution_count": 2,
   "metadata": {
    "autoscroll": false,
    "ein.hycell": false,
    "ein.tags": "worksheet-0",
    "slideshow": {
     "slide_type": "-"
    }
   },
   "outputs": [],
   "source": [
    "def load_csv(name, length=100, random_state=1):\n",
    "    # Cargar archivo CSV de la carpeta 'datos', eliminando duplicados\n",
    "    dataframe = pd.read_csv(os.path.join('datos', name)).drop_duplicates()\n",
    "    \n",
    "    # Tomar una muestra 'aleatoria' de N elementos\n",
    "    dataframe = dataframe.sample(n=min(len(dataframe.index), length), random_state=random_state)\n",
    "    \n",
    "    # Asegurarse de que los índices sean secuenciales\n",
    "    return dataframe.reset_index(drop=True)"
   ]
  },
  {
   "cell_type": "markdown",
   "metadata": {},
   "source": [
    "La función `expand_geojson_column` toma un DataFrame con una columna `geojson`, y devuelve un nuevo DataFrame con dos columnas: `longitud` y `latitud`, con los valores correspondientes de la columna original. El contenido de cada celda de la columna `geojson` debe ser un valor de tipo `Point`."
   ]
  },
  {
   "cell_type": "code",
   "execution_count": 3,
   "metadata": {},
   "outputs": [],
   "source": [
    "def expand_geojson_column(data):\n",
    "    # Toma un DataFrame con una columna 'geojson' y retorna un DataFrame con 'lat' y 'lon'\n",
    "    def geojson_lat_lon(value):\n",
    "        geojson = json.loads(value)\n",
    "        return geojson['coordinates']\n",
    "    \n",
    "    col = data[['geojson']].applymap(geojson_lat_lon)\n",
    "    return col['geojson'].apply(pd.Series).rename(columns={0: 'longitud', 1: 'latitud'})"
   ]
  },
  {
   "cell_type": "markdown",
   "metadata": {},
   "source": [
    "Como ejemplo, se construye un DataFrame `geojson_df`, y se lo une con el resultado de expandir su columna `geojson` a `longitud` y `latitud`:"
   ]
  },
  {
   "cell_type": "code",
   "execution_count": 4,
   "metadata": {},
   "outputs": [
    {
     "data": {
      "text/html": [
       "<div>\n",
       "<style scoped>\n",
       "    .dataframe tbody tr th:only-of-type {\n",
       "        vertical-align: middle;\n",
       "    }\n",
       "\n",
       "    .dataframe tbody tr th {\n",
       "        vertical-align: top;\n",
       "    }\n",
       "\n",
       "    .dataframe thead th {\n",
       "        text-align: right;\n",
       "    }\n",
       "</style>\n",
       "<table border=\"1\" class=\"dataframe\">\n",
       "  <thead>\n",
       "    <tr style=\"text-align: right;\">\n",
       "      <th></th>\n",
       "      <th>geojson</th>\n",
       "      <th>longitud</th>\n",
       "      <th>latitud</th>\n",
       "    </tr>\n",
       "  </thead>\n",
       "  <tbody>\n",
       "    <tr>\n",
       "      <th>0</th>\n",
       "      <td>{\"type\":\"Point\",\"coordinates\":[-65.54975609416...</td>\n",
       "      <td>-65.549756</td>\n",
       "      <td>-22.323124</td>\n",
       "    </tr>\n",
       "    <tr>\n",
       "      <th>1</th>\n",
       "      <td>{\"type\":\"Point\",\"coordinates\":[-66.15893982495...</td>\n",
       "      <td>-66.158940</td>\n",
       "      <td>-22.350583</td>\n",
       "    </tr>\n",
       "  </tbody>\n",
       "</table>\n",
       "</div>"
      ],
      "text/plain": [
       "                                             geojson   longitud    latitud\n",
       "0  {\"type\":\"Point\",\"coordinates\":[-65.54975609416... -65.549756 -22.323124\n",
       "1  {\"type\":\"Point\",\"coordinates\":[-66.15893982495... -66.158940 -22.350583"
      ]
     },
     "execution_count": 4,
     "metadata": {},
     "output_type": "execute_result"
    }
   ],
   "source": [
    "geojson_df = pd.DataFrame([\n",
    "    '{\"type\":\"Point\",\"coordinates\":[-65.5497560941612,-22.3231238419683]}',\n",
    "    '{\"type\":\"Point\",\"coordinates\":[-66.1589398249571,-22.3505830769888]}'\n",
    "], columns=['geojson'])\n",
    "\n",
    "geojson_df.join(expand_geojson_column(geojson_df))"
   ]
  },
  {
   "cell_type": "markdown",
   "metadata": {},
   "source": [
    "### Funciones de normalización\n",
    "\n",
    "Se definen dos funciones de normalización de datos:\n",
    "\n",
    "<Explicar el funcionamiento de la funcion `georef_normalize_entities`>"
   ]
  },
  {
   "cell_type": "code",
   "execution_count": 5,
   "metadata": {
    "autoscroll": false,
    "ein.hycell": false,
    "ein.tags": "worksheet-0",
    "slideshow": {
     "slide_type": "-"
    }
   },
   "outputs": [],
   "source": [
    "def georef_normalize_entities(data, entity, fields, params=None):\n",
    "    if not params:\n",
    "        params = {}\n",
    "    queries = []\n",
    "\n",
    "    for i in data.index:\n",
    "        query = {\n",
    "            'max': 1,\n",
    "            'aplanar': True,\n",
    "            **params\n",
    "        }\n",
    "\n",
    "        for key, value in fields.items():\n",
    "            query[key] = data.loc[i, value]\n",
    "\n",
    "        queries.append(query)\n",
    "\n",
    "    body = {\n",
    "        entity: queries\n",
    "    }\n",
    "\n",
    "    url = 'https://apis.datos.gob.ar/georef/api/{}'.format(entity)\n",
    "\n",
    "    resp = requests.post(url, json=body)\n",
    "    resp.raise_for_status()\n",
    "    results = resp.json()['resultados']\n",
    "\n",
    "    return pd.DataFrame(result[entity][0] if result[entity] else {} for result in results)"
   ]
  },
  {
   "cell_type": "markdown",
   "metadata": {},
   "source": [
    "<Explicar el funcionamiento de la funcion `georef_reverse_geocode`>"
   ]
  },
  {
   "cell_type": "code",
   "execution_count": 6,
   "metadata": {
    "autoscroll": false,
    "ein.hycell": false,
    "ein.tags": "worksheet-0",
    "slideshow": {
     "slide_type": "-"
    }
   },
   "outputs": [],
   "source": [
    "def georef_reverse_geocode(data, fields, params=None):\n",
    "    if not params:\n",
    "        params = {}\n",
    "    queries = []\n",
    "\n",
    "    for i in data.index:\n",
    "        query = {\n",
    "            'aplanar': True,\n",
    "            **params\n",
    "        }\n",
    "\n",
    "        for key, value in fields.items():\n",
    "            query[key] = data.loc[i, value]\n",
    "\n",
    "        queries.append(query)\n",
    "\n",
    "    body = {\n",
    "        'ubicaciones': queries\n",
    "    }\n",
    "\n",
    "    resp = requests.post('https://apis.datos.gob.ar/georef/api/ubicacion', json=body)\n",
    "    resp.raise_for_status()\n",
    "    results = resp.json()['resultados']\n",
    "\n",
    "    return pd.DataFrame(result['ubicacion'] for result in results)"
   ]
  }
 ],
 "metadata": {
  "kernelspec": {
   "display_name": "Python 3",
   "language": "python",
   "name": "python3"
  },
  "language_info": {
   "codemirror_mode": {
    "name": "ipython",
    "version": 3
   },
   "file_extension": ".py",
   "mimetype": "text/x-python",
   "name": "python",
   "nbconvert_exporter": "python",
   "pygments_lexer": "ipython3",
   "version": "3.6.6"
  },
  "name": "pyconar.ipynb"
 },
 "nbformat": 4,
 "nbformat_minor": 2
}
