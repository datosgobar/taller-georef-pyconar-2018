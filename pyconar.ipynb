{
 "cells": [
  {
   "cell_type": "markdown",
   "metadata": {
    "ein.tags": "worksheet-0",
    "slideshow": {
     "slide_type": "-"
    }
   },
   "source": [
    "# PyConAr 2018 - Taller API Georef\n",
    "\n",
    "Para leer la guía de uso de la API, hacer click [acá](https://apis.datos.gob.ar/georef).\n",
    "\n",
    "Para leer la referencia completa de la API, hacer click [acá](https://datosgobar.github.io/georef-ar-api/open-api/).\n",
    "\n",
    "Requerimientos del taller:\n",
    " - Python 3\n",
    " - jupyter\n",
    " - pandas\n",
    " - requests"
   ]
  },
  {
   "cell_type": "code",
   "execution_count": 1,
   "metadata": {
    "autoscroll": false,
    "ein.hycell": false,
    "ein.tags": "worksheet-0",
    "slideshow": {
     "slide_type": "-"
    }
   },
   "outputs": [],
   "source": [
    "import json\n",
    "import os\n",
    "import pandas as pd\n",
    "import requests"
   ]
  },
  {
   "cell_type": "markdown",
   "metadata": {},
   "source": [
    "## Ejemplos rápidos\n",
    "\n",
    "A contiuación, se muestran algunos ejemplos rápidos de uso de la API, utilizando `requests`:"
   ]
  },
  {
   "cell_type": "code",
   "execution_count": 2,
   "metadata": {},
   "outputs": [
    {
     "data": {
      "text/plain": [
       "{'cantidad': 1,\n",
       " 'inicio': 0,\n",
       " 'provincias': [{'centroide': {'lat': -37.131554, 'lon': -65.446655},\n",
       "   'id': '42',\n",
       "   'nombre': 'La Pampa'}],\n",
       " 'total': 1}"
      ]
     },
     "execution_count": 2,
     "metadata": {},
     "output_type": "execute_result"
    }
   ],
   "source": [
    "def georef_response(url):\n",
    "    # Realizar una consulta GET a la API y devolver la respuesta JSON\n",
    "    resp = requests.get('https://apis.datos.gob.ar/georef/api{}'.format(url))\n",
    "    return resp.json()\n",
    "\n",
    "georef_response('/provincias?nombre=pampa')"
   ]
  },
  {
   "cell_type": "code",
   "execution_count": 3,
   "metadata": {},
   "outputs": [
    {
     "data": {
      "text/plain": [
       "{'cantidad': 1,\n",
       " 'inicio': 0,\n",
       " 'localidades': [{'centroide': {'lat': -31.416533, 'lon': -68.531614},\n",
       "   'departamento': {'id': '70007', 'nombre': 'Albardón'},\n",
       "   'id': '70007020001',\n",
       "   'municipio': {'id': '700007', 'nombre': 'Albardón'},\n",
       "   'nombre': 'CAMPO AFUERA',\n",
       "   'provincia': {'id': '70', 'nombre': 'San Juan'},\n",
       "   'tipo': 'Entidad (E)'}],\n",
       " 'total': 99}"
      ]
     },
     "execution_count": 3,
     "metadata": {},
     "output_type": "execute_result"
    }
   ],
   "source": [
    "georef_response('/localidades?provincia=san juan&max=1')"
   ]
  },
  {
   "cell_type": "code",
   "execution_count": 4,
   "metadata": {},
   "outputs": [
    {
     "data": {
      "text/plain": [
       "{'cantidad': 1,\n",
       " 'direcciones': [{'altura': 1000,\n",
       "   'departamento': {'id': '06658', 'nombre': 'Quilmes'},\n",
       "   'id': '0665801004045',\n",
       "   'nombre': 'SANTA FE',\n",
       "   'nomenclatura': 'SANTA FE 1000, Quilmes, Buenos Aires',\n",
       "   'provincia': {'id': '06', 'nombre': 'Buenos Aires'},\n",
       "   'tipo': 'CALLE',\n",
       "   'ubicacion': {'lat': None, 'lon': None}}],\n",
       " 'inicio': 0,\n",
       " 'total': 2}"
      ]
     },
     "execution_count": 4,
     "metadata": {},
     "output_type": "execute_result"
    }
   ],
   "source": [
    "georef_response('/direcciones?direccion=santa fe 1000&departamento=quilmes&max=1')"
   ]
  },
  {
   "cell_type": "code",
   "execution_count": 5,
   "metadata": {},
   "outputs": [
    {
     "data": {
      "text/plain": [
       "{'ubicacion': {'departamento': {'id': '10035', 'nombre': 'Belén'},\n",
       "  'lat': -27.2741,\n",
       "  'lon': -66.7529,\n",
       "  'municipio': {'id': '100077', 'nombre': 'Hualfín'},\n",
       "  'provincia': {'id': '10', 'nombre': 'Catamarca'}}}"
      ]
     },
     "execution_count": 5,
     "metadata": {},
     "output_type": "execute_result"
    }
   ],
   "source": [
    "georef_response('/ubicacion?lat=-27.2741&lon=-66.7529')"
   ]
  },
  {
   "cell_type": "markdown",
   "metadata": {},
   "source": [
    "## Lotes de datos\n",
    "Para trabajar con archivos de datos CSV, es conveniente utilizar los recursos versión `POST` de la API, ya que los mismos permiten envíar varias consultas en una misma petición HTTP. Para lograr esto, se definen a continuación algunas funciones para trabajar con datos cargados en DataFrames.\n",
    "\n",
    "### Funciones de utilidad\n",
    "\n",
    "Se definen dos funciones de utilidad:\n",
    "\n",
    "#### `load_csv`\n",
    "La función `load_csv` carga un archivo CSV y toma una muestra aleatoria de 100 elementos (por defecto). El muestreado se realiza para poder agilizar el taller y no tener que manejar cantidades de datos demasiado grandes."
   ]
  },
  {
   "cell_type": "code",
   "execution_count": 6,
   "metadata": {
    "autoscroll": false,
    "ein.hycell": false,
    "ein.tags": "worksheet-0",
    "slideshow": {
     "slide_type": "-"
    }
   },
   "outputs": [],
   "source": [
    "def load_csv(name, length=100, random_state=1):\n",
    "    # Cargar archivo CSV de la carpeta 'datos', eliminando duplicados\n",
    "    dataframe = pd.read_csv(os.path.join('datos', name)).drop_duplicates()\n",
    "    \n",
    "    # Tomar una muestra 'aleatoria' de N elementos\n",
    "    dataframe = dataframe.sample(n=min(len(dataframe.index), length), random_state=random_state)\n",
    "    \n",
    "    # Asegurarse de que los índices sean secuenciales\n",
    "    return dataframe.reset_index(drop=True)"
   ]
  },
  {
   "cell_type": "markdown",
   "metadata": {},
   "source": [
    "#### `expand_geojson_column`\n",
    "La función `expand_geojson_column` toma un DataFrame con una columna `geojson`, y devuelve un nuevo DataFrame con dos columnas: `longitud` y `latitud`, con los valores correspondientes de la columna original. El contenido de cada celda de la columna `geojson` debe ser un valor de tipo `Point`."
   ]
  },
  {
   "cell_type": "code",
   "execution_count": 7,
   "metadata": {},
   "outputs": [],
   "source": [
    "def expand_geojson_column(data):\n",
    "    # Toma un DataFrame con una columna 'geojson' y retorna un DataFrame con 'lat' y 'lon'\n",
    "    def geojson_lat_lon(value):\n",
    "        geojson = json.loads(value)\n",
    "        return geojson['coordinates']\n",
    "    \n",
    "    col = data[['geojson']].applymap(geojson_lat_lon)\n",
    "    return col['geojson'].apply(pd.Series).rename(columns={0: 'longitud', 1: 'latitud'})"
   ]
  },
  {
   "cell_type": "markdown",
   "metadata": {},
   "source": [
    "Como ejemplo, se construye un DataFrame `geojson_df`, y se lo une con el resultado de expandir su columna `geojson` a `longitud` y `latitud`:"
   ]
  },
  {
   "cell_type": "code",
   "execution_count": 8,
   "metadata": {},
   "outputs": [
    {
     "data": {
      "text/html": [
       "<div>\n",
       "<style scoped>\n",
       "    .dataframe tbody tr th:only-of-type {\n",
       "        vertical-align: middle;\n",
       "    }\n",
       "\n",
       "    .dataframe tbody tr th {\n",
       "        vertical-align: top;\n",
       "    }\n",
       "\n",
       "    .dataframe thead th {\n",
       "        text-align: right;\n",
       "    }\n",
       "</style>\n",
       "<table border=\"1\" class=\"dataframe\">\n",
       "  <thead>\n",
       "    <tr style=\"text-align: right;\">\n",
       "      <th></th>\n",
       "      <th>geojson</th>\n",
       "    </tr>\n",
       "  </thead>\n",
       "  <tbody>\n",
       "    <tr>\n",
       "      <th>0</th>\n",
       "      <td>{\"type\":\"Point\",\"coordinates\":[-65.54975609416...</td>\n",
       "    </tr>\n",
       "    <tr>\n",
       "      <th>1</th>\n",
       "      <td>{\"type\":\"Point\",\"coordinates\":[-66.15893982495...</td>\n",
       "    </tr>\n",
       "  </tbody>\n",
       "</table>\n",
       "</div>"
      ],
      "text/plain": [
       "                                             geojson\n",
       "0  {\"type\":\"Point\",\"coordinates\":[-65.54975609416...\n",
       "1  {\"type\":\"Point\",\"coordinates\":[-66.15893982495..."
      ]
     },
     "execution_count": 8,
     "metadata": {},
     "output_type": "execute_result"
    }
   ],
   "source": [
    "geojson_df = pd.DataFrame([\n",
    "    '{\"type\":\"Point\",\"coordinates\":[-65.5497560941612,-22.3231238419683]}',\n",
    "    '{\"type\":\"Point\",\"coordinates\":[-66.1589398249571,-22.3505830769888]}'\n",
    "], columns=['geojson'])\n",
    "geojson_df"
   ]
  },
  {
   "cell_type": "code",
   "execution_count": 9,
   "metadata": {},
   "outputs": [
    {
     "data": {
      "text/html": [
       "<div>\n",
       "<style scoped>\n",
       "    .dataframe tbody tr th:only-of-type {\n",
       "        vertical-align: middle;\n",
       "    }\n",
       "\n",
       "    .dataframe tbody tr th {\n",
       "        vertical-align: top;\n",
       "    }\n",
       "\n",
       "    .dataframe thead th {\n",
       "        text-align: right;\n",
       "    }\n",
       "</style>\n",
       "<table border=\"1\" class=\"dataframe\">\n",
       "  <thead>\n",
       "    <tr style=\"text-align: right;\">\n",
       "      <th></th>\n",
       "      <th>geojson</th>\n",
       "      <th>longitud</th>\n",
       "      <th>latitud</th>\n",
       "    </tr>\n",
       "  </thead>\n",
       "  <tbody>\n",
       "    <tr>\n",
       "      <th>0</th>\n",
       "      <td>{\"type\":\"Point\",\"coordinates\":[-65.54975609416...</td>\n",
       "      <td>-65.549756</td>\n",
       "      <td>-22.323124</td>\n",
       "    </tr>\n",
       "    <tr>\n",
       "      <th>1</th>\n",
       "      <td>{\"type\":\"Point\",\"coordinates\":[-66.15893982495...</td>\n",
       "      <td>-66.158940</td>\n",
       "      <td>-22.350583</td>\n",
       "    </tr>\n",
       "  </tbody>\n",
       "</table>\n",
       "</div>"
      ],
      "text/plain": [
       "                                             geojson   longitud    latitud\n",
       "0  {\"type\":\"Point\",\"coordinates\":[-65.54975609416... -65.549756 -22.323124\n",
       "1  {\"type\":\"Point\",\"coordinates\":[-66.15893982495... -66.158940 -22.350583"
      ]
     },
     "execution_count": 9,
     "metadata": {},
     "output_type": "execute_result"
    }
   ],
   "source": [
    "geojson_df.join(expand_geojson_column(geojson_df))"
   ]
  },
  {
   "cell_type": "markdown",
   "metadata": {},
   "source": [
    "### Funciones de normalización\n",
    "\n",
    "Se definen dos funciones de normalización de datos:\n",
    "\n",
    "#### `georef_normalize_entities`\n",
    "La función `georef_normalize_entities` toma un DataFrame e intenta normalizar sus datos utilizando la API. Para utilizar la función, es necesario especificar qué recurso (`entity`) se va a consultar. Los valores aceptados por este parámetro son: `provincias`, `departamentos`, `municipios`, `localidades`, `direcciones` y `calles`. Por el otro lado, el parámetro `field` debe contener un diccionario que especifica cuáles campos del DataFrame corresponden a cada parámetro propio de la API."
   ]
  },
  {
   "cell_type": "code",
   "execution_count": 10,
   "metadata": {
    "autoscroll": false,
    "ein.hycell": false,
    "ein.tags": "worksheet-0",
    "slideshow": {
     "slide_type": "-"
    }
   },
   "outputs": [],
   "source": [
    "def georef_normalize_entities(data, entity, fields, params=None):\n",
    "    if not params:\n",
    "        params = {}\n",
    "    queries = []\n",
    "\n",
    "    for i in data.index:\n",
    "        query = {\n",
    "            'max': 1,\n",
    "            'aplanar': True,\n",
    "            **params\n",
    "        }\n",
    "\n",
    "        for key, value in fields.items():\n",
    "            query[key] = data.loc[i, value]\n",
    "\n",
    "        queries.append(query)\n",
    "\n",
    "    body = {\n",
    "        entity: queries\n",
    "    }\n",
    "\n",
    "    url = 'https://apis.datos.gob.ar/georef/api/{}'.format(entity)\n",
    "\n",
    "    resp = requests.post(url, json=body)\n",
    "    resp.raise_for_status()\n",
    "    results = resp.json()['resultados']\n",
    "\n",
    "    return pd.DataFrame(result[entity][0] if result[entity] else {} for result in results)"
   ]
  },
  {
   "cell_type": "markdown",
   "metadata": {},
   "source": [
    "A modo de ejemplo, se construye un DataFrame con un listado de provincias:"
   ]
  },
  {
   "cell_type": "code",
   "execution_count": 11,
   "metadata": {},
   "outputs": [
    {
     "data": {
      "text/html": [
       "<div>\n",
       "<style scoped>\n",
       "    .dataframe tbody tr th:only-of-type {\n",
       "        vertical-align: middle;\n",
       "    }\n",
       "\n",
       "    .dataframe tbody tr th {\n",
       "        vertical-align: top;\n",
       "    }\n",
       "\n",
       "    .dataframe thead th {\n",
       "        text-align: right;\n",
       "    }\n",
       "</style>\n",
       "<table border=\"1\" class=\"dataframe\">\n",
       "  <thead>\n",
       "    <tr style=\"text-align: right;\">\n",
       "      <th></th>\n",
       "      <th>prov</th>\n",
       "    </tr>\n",
       "  </thead>\n",
       "  <tbody>\n",
       "    <tr>\n",
       "      <th>0</th>\n",
       "      <td>CABA</td>\n",
       "    </tr>\n",
       "    <tr>\n",
       "      <th>1</th>\n",
       "      <td>Ciudad de Buenos Aires</td>\n",
       "    </tr>\n",
       "    <tr>\n",
       "      <th>2</th>\n",
       "      <td>Capital federal</td>\n",
       "    </tr>\n",
       "    <tr>\n",
       "      <th>3</th>\n",
       "      <td>Stgo del Estero</td>\n",
       "    </tr>\n",
       "    <tr>\n",
       "      <th>4</th>\n",
       "      <td>Tierra del Fuego</td>\n",
       "    </tr>\n",
       "    <tr>\n",
       "      <th>5</th>\n",
       "      <td>Tucuman</td>\n",
       "    </tr>\n",
       "  </tbody>\n",
       "</table>\n",
       "</div>"
      ],
      "text/plain": [
       "                     prov\n",
       "0                    CABA\n",
       "1  Ciudad de Buenos Aires\n",
       "2         Capital federal\n",
       "3         Stgo del Estero\n",
       "4        Tierra del Fuego\n",
       "5                 Tucuman"
      ]
     },
     "execution_count": 11,
     "metadata": {},
     "output_type": "execute_result"
    }
   ],
   "source": [
    "df_example = pd.DataFrame([\n",
    "    'CABA',\n",
    "    'Ciudad de Buenos Aires',\n",
    "    'Capital federal',\n",
    "    'Stgo del Estero',\n",
    "    'Tierra del Fuego',\n",
    "    'Tucuman'\n",
    "], columns=['prov'])\n",
    "df_example"
   ]
  },
  {
   "cell_type": "markdown",
   "metadata": {},
   "source": [
    "Luego, se normaliza el DataFrame utilizando `georef_normalize_entities`, con entidad `provincias`:"
   ]
  },
  {
   "cell_type": "code",
   "execution_count": 12,
   "metadata": {},
   "outputs": [
    {
     "data": {
      "text/html": [
       "<div>\n",
       "<style scoped>\n",
       "    .dataframe tbody tr th:only-of-type {\n",
       "        vertical-align: middle;\n",
       "    }\n",
       "\n",
       "    .dataframe tbody tr th {\n",
       "        vertical-align: top;\n",
       "    }\n",
       "\n",
       "    .dataframe thead th {\n",
       "        text-align: right;\n",
       "    }\n",
       "</style>\n",
       "<table border=\"1\" class=\"dataframe\">\n",
       "  <thead>\n",
       "    <tr style=\"text-align: right;\">\n",
       "      <th></th>\n",
       "      <th>prov</th>\n",
       "      <th>centroide_lat</th>\n",
       "      <th>centroide_lon</th>\n",
       "      <th>id</th>\n",
       "      <th>nombre</th>\n",
       "    </tr>\n",
       "  </thead>\n",
       "  <tbody>\n",
       "    <tr>\n",
       "      <th>0</th>\n",
       "      <td>CABA</td>\n",
       "      <td>-34.614493</td>\n",
       "      <td>-58.445856</td>\n",
       "      <td>02</td>\n",
       "      <td>Ciudad Autónoma de Buenos Aires</td>\n",
       "    </tr>\n",
       "    <tr>\n",
       "      <th>1</th>\n",
       "      <td>Ciudad de Buenos Aires</td>\n",
       "      <td>-34.614493</td>\n",
       "      <td>-58.445856</td>\n",
       "      <td>02</td>\n",
       "      <td>Ciudad Autónoma de Buenos Aires</td>\n",
       "    </tr>\n",
       "    <tr>\n",
       "      <th>2</th>\n",
       "      <td>Capital federal</td>\n",
       "      <td>-34.614493</td>\n",
       "      <td>-58.445856</td>\n",
       "      <td>02</td>\n",
       "      <td>Ciudad Autónoma de Buenos Aires</td>\n",
       "    </tr>\n",
       "    <tr>\n",
       "      <th>3</th>\n",
       "      <td>Stgo del Estero</td>\n",
       "      <td>-27.782412</td>\n",
       "      <td>-63.252387</td>\n",
       "      <td>86</td>\n",
       "      <td>Santiago del Estero</td>\n",
       "    </tr>\n",
       "    <tr>\n",
       "      <th>4</th>\n",
       "      <td>Tierra del Fuego</td>\n",
       "      <td>-82.521518</td>\n",
       "      <td>-50.742749</td>\n",
       "      <td>94</td>\n",
       "      <td>Tierra del Fuego, Antártida e Islas del Atlánt...</td>\n",
       "    </tr>\n",
       "    <tr>\n",
       "      <th>5</th>\n",
       "      <td>Tucuman</td>\n",
       "      <td>-26.947800</td>\n",
       "      <td>-65.364758</td>\n",
       "      <td>90</td>\n",
       "      <td>Tucumán</td>\n",
       "    </tr>\n",
       "  </tbody>\n",
       "</table>\n",
       "</div>"
      ],
      "text/plain": [
       "                     prov  centroide_lat  centroide_lon  id  \\\n",
       "0                    CABA     -34.614493     -58.445856  02   \n",
       "1  Ciudad de Buenos Aires     -34.614493     -58.445856  02   \n",
       "2         Capital federal     -34.614493     -58.445856  02   \n",
       "3         Stgo del Estero     -27.782412     -63.252387  86   \n",
       "4        Tierra del Fuego     -82.521518     -50.742749  94   \n",
       "5                 Tucuman     -26.947800     -65.364758  90   \n",
       "\n",
       "                                              nombre  \n",
       "0                    Ciudad Autónoma de Buenos Aires  \n",
       "1                    Ciudad Autónoma de Buenos Aires  \n",
       "2                    Ciudad Autónoma de Buenos Aires  \n",
       "3                                Santiago del Estero  \n",
       "4  Tierra del Fuego, Antártida e Islas del Atlánt...  \n",
       "5                                            Tucumán  "
      ]
     },
     "execution_count": 12,
     "metadata": {},
     "output_type": "execute_result"
    }
   ],
   "source": [
    "df_example.join(georef_normalize_entities(df_example, 'provincias', {'nombre': 'prov'}))"
   ]
  },
  {
   "cell_type": "markdown",
   "metadata": {},
   "source": [
    "#### `georef_normalize_entities`\n",
    "La función `georef_reverse_geocode` toma un DataFrame con coordenadas (latitud y longitud) y realiza una geocodificación inversa de los datos utilizando la API. El parámetro `fields` debe tomar el valor de un diccionario que indique cuáles columnas del DataFrame corresponden a los parámetros `lat` y `lon` de la API."
   ]
  },
  {
   "cell_type": "code",
   "execution_count": 13,
   "metadata": {
    "autoscroll": false,
    "ein.hycell": false,
    "ein.tags": "worksheet-0",
    "slideshow": {
     "slide_type": "-"
    }
   },
   "outputs": [],
   "source": [
    "def georef_reverse_geocode(data, fields, params=None):\n",
    "    if not params:\n",
    "        params = {}\n",
    "    queries = []\n",
    "\n",
    "    for i in data.index:\n",
    "        query = {\n",
    "            'aplanar': True,\n",
    "            **params\n",
    "        }\n",
    "\n",
    "        for key, value in fields.items():\n",
    "            query[key] = data.loc[i, value]\n",
    "\n",
    "        queries.append(query)\n",
    "\n",
    "    body = {\n",
    "        'ubicaciones': queries\n",
    "    }\n",
    "\n",
    "    resp = requests.post('https://apis.datos.gob.ar/georef/api/ubicacion', json=body)\n",
    "    resp.raise_for_status()\n",
    "    results = resp.json()['resultados']\n",
    "\n",
    "    return pd.DataFrame(result['ubicacion'] for result in results)"
   ]
  },
  {
   "cell_type": "markdown",
   "metadata": {},
   "source": [
    "A modo de ejemplo, se construye un DataFrame con un listado de coordenadas:"
   ]
  },
  {
   "cell_type": "code",
   "execution_count": 14,
   "metadata": {},
   "outputs": [
    {
     "data": {
      "text/html": [
       "<div>\n",
       "<style scoped>\n",
       "    .dataframe tbody tr th:only-of-type {\n",
       "        vertical-align: middle;\n",
       "    }\n",
       "\n",
       "    .dataframe tbody tr th {\n",
       "        vertical-align: top;\n",
       "    }\n",
       "\n",
       "    .dataframe thead th {\n",
       "        text-align: right;\n",
       "    }\n",
       "</style>\n",
       "<table border=\"1\" class=\"dataframe\">\n",
       "  <thead>\n",
       "    <tr style=\"text-align: right;\">\n",
       "      <th></th>\n",
       "      <th>longitud</th>\n",
       "      <th>latitud</th>\n",
       "    </tr>\n",
       "  </thead>\n",
       "  <tbody>\n",
       "    <tr>\n",
       "      <th>0</th>\n",
       "      <td>-66.222703</td>\n",
       "      <td>-22.022567</td>\n",
       "    </tr>\n",
       "    <tr>\n",
       "      <th>1</th>\n",
       "      <td>-66.378270</td>\n",
       "      <td>-22.701578</td>\n",
       "    </tr>\n",
       "    <tr>\n",
       "      <th>2</th>\n",
       "      <td>-68.442794</td>\n",
       "      <td>-29.005534</td>\n",
       "    </tr>\n",
       "  </tbody>\n",
       "</table>\n",
       "</div>"
      ],
      "text/plain": [
       "    longitud    latitud\n",
       "0 -66.222703 -22.022567\n",
       "1 -66.378270 -22.701578\n",
       "2 -68.442794 -29.005534"
      ]
     },
     "execution_count": 14,
     "metadata": {},
     "output_type": "execute_result"
    }
   ],
   "source": [
    "df_example2 = pd.DataFrame([\n",
    "    (-66.222703465532,-22.0225667586346),\n",
    "    (-66.3782703614848,-22.7015782843536),\n",
    "    (-68.4427937929881,-29.005534118598)\n",
    "], columns=['longitud', 'latitud'])\n",
    "df_example2"
   ]
  },
  {
   "cell_type": "markdown",
   "metadata": {},
   "source": [
    "Luego, se realiza la geocodificación inversa de los datos con `georef_reverse_geocode`:"
   ]
  },
  {
   "cell_type": "code",
   "execution_count": 15,
   "metadata": {},
   "outputs": [
    {
     "data": {
      "text/html": [
       "<div>\n",
       "<style scoped>\n",
       "    .dataframe tbody tr th:only-of-type {\n",
       "        vertical-align: middle;\n",
       "    }\n",
       "\n",
       "    .dataframe tbody tr th {\n",
       "        vertical-align: top;\n",
       "    }\n",
       "\n",
       "    .dataframe thead th {\n",
       "        text-align: right;\n",
       "    }\n",
       "</style>\n",
       "<table border=\"1\" class=\"dataframe\">\n",
       "  <thead>\n",
       "    <tr style=\"text-align: right;\">\n",
       "      <th></th>\n",
       "      <th>longitud</th>\n",
       "      <th>latitud</th>\n",
       "      <th>departamento_id</th>\n",
       "      <th>departamento_nombre</th>\n",
       "      <th>lat</th>\n",
       "      <th>lon</th>\n",
       "      <th>municipio_id</th>\n",
       "      <th>municipio_nombre</th>\n",
       "      <th>provincia_id</th>\n",
       "      <th>provincia_nombre</th>\n",
       "    </tr>\n",
       "  </thead>\n",
       "  <tbody>\n",
       "    <tr>\n",
       "      <th>0</th>\n",
       "      <td>-66.222703</td>\n",
       "      <td>-22.022567</td>\n",
       "      <td>38077</td>\n",
       "      <td>Santa Catalina</td>\n",
       "      <td>-22.022567</td>\n",
       "      <td>-66.222703</td>\n",
       "      <td>386147</td>\n",
       "      <td>Santa Catalina</td>\n",
       "      <td>38</td>\n",
       "      <td>Jujuy</td>\n",
       "    </tr>\n",
       "    <tr>\n",
       "      <th>1</th>\n",
       "      <td>-66.378270</td>\n",
       "      <td>-22.701578</td>\n",
       "      <td>38049</td>\n",
       "      <td>Rinconada</td>\n",
       "      <td>-22.701578</td>\n",
       "      <td>-66.378270</td>\n",
       "      <td>386070</td>\n",
       "      <td>Mina Pirquitas</td>\n",
       "      <td>38</td>\n",
       "      <td>Jujuy</td>\n",
       "    </tr>\n",
       "    <tr>\n",
       "      <th>2</th>\n",
       "      <td>-68.442794</td>\n",
       "      <td>-29.005534</td>\n",
       "      <td>46077</td>\n",
       "      <td>General Lamadrid</td>\n",
       "      <td>-29.005534</td>\n",
       "      <td>-68.442794</td>\n",
       "      <td>460077</td>\n",
       "      <td>General Lamadrid</td>\n",
       "      <td>46</td>\n",
       "      <td>La Rioja</td>\n",
       "    </tr>\n",
       "  </tbody>\n",
       "</table>\n",
       "</div>"
      ],
      "text/plain": [
       "    longitud    latitud departamento_id departamento_nombre        lat  \\\n",
       "0 -66.222703 -22.022567           38077      Santa Catalina -22.022567   \n",
       "1 -66.378270 -22.701578           38049           Rinconada -22.701578   \n",
       "2 -68.442794 -29.005534           46077    General Lamadrid -29.005534   \n",
       "\n",
       "         lon municipio_id  municipio_nombre provincia_id provincia_nombre  \n",
       "0 -66.222703       386147    Santa Catalina           38            Jujuy  \n",
       "1 -66.378270       386070    Mina Pirquitas           38            Jujuy  \n",
       "2 -68.442794       460077  General Lamadrid           46         La Rioja  "
      ]
     },
     "execution_count": 15,
     "metadata": {},
     "output_type": "execute_result"
    }
   ],
   "source": [
    "df_example2.join(georef_reverse_geocode(df_example2, {'lat': 'latitud', 'lon': 'longitud'}))"
   ]
  }
 ],
 "metadata": {
  "kernelspec": {
   "display_name": "Python 3",
   "language": "python",
   "name": "python3"
  },
  "language_info": {
   "codemirror_mode": {
    "name": "ipython",
    "version": 3
   },
   "file_extension": ".py",
   "mimetype": "text/x-python",
   "name": "python",
   "nbconvert_exporter": "python",
   "pygments_lexer": "ipython3",
   "version": "3.5.2"
  },
  "name": "pyconar.ipynb",
  "widgets": {
   "application/vnd.jupyter.widget-state+json": {
    "state": {},
    "version_major": 2,
    "version_minor": 0
   }
  }
 },
 "nbformat": 4,
 "nbformat_minor": 2
}
